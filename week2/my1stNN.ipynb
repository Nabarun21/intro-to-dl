{
 "cells": [
  {
   "cell_type": "code",
   "execution_count": 50,
   "metadata": {},
   "outputs": [
    {
     "name": "stdout",
     "output_type": "stream",
     "text": [
      "(50000, 28, 28) (50000,) (10000, 28, 28) (10000, 28, 28)\n"
     ]
    },
    {
     "data": {
      "image/png": "[encoded data removed]",
      "text/plain": [
       "<matplotlib.figure.Figure at 0x132131f60>"
      ]
     },
     "metadata": {},
     "output_type": "display_data"
    }
   ],
   "source": [
    "\n",
    "import tensorflow as tf\n",
    "import numpy as np\n",
    "from preprocessed_mnist import load_dataset\n",
    "X_train, y_train, X_val, y_val, X_test, y_test = load_dataset()\n",
    "print(X_train.shape, y_train.shape,X_val.shape,X_test.shape)\n",
    "import matplotlib.pyplot as plt\n",
    "%matplotlib inline\n",
    "plt.imshow(X_train[0], cmap=\"Greys\");"
   ]
  },
  {
   "cell_type": "code",
   "execution_count": 51,
   "metadata": {},
   "outputs": [],
   "source": [
    "#convert targets into one_hot\n",
    "#print(set(y_train))\n",
    "#print(y_train[0:5])\n",
    "#y_train_onehot=tf.one_hot(y_train,depth=10,on_value=1,off_value=0)\n",
    "#print(y_train_onehot[0])\n",
    "#tf.reset_default_graph()"
   ]
  },
  {
   "cell_type": "code",
   "execution_count": 52,
   "metadata": {},
   "outputs": [],
   "source": [
    "#define some global constants: neurons per hidden layer\n",
    "L1=300\n",
    "L2=150\n",
    "L3=50"
   ]
  },
  {
   "cell_type": "code",
   "execution_count": 53,
   "metadata": {},
   "outputs": [],
   "source": [
    "#placeholders input output \n",
    "X= tf.placeholder(tf.float32, [None, 28, 28])\n",
    "y= tf.placeholder(tf.int64, [None]) \n"
   ]
  },
  {
   "cell_type": "code",
   "execution_count": 54,
   "metadata": {},
   "outputs": [],
   "source": [
    "#variables : weights and biases\n",
    "W1 = tf.Variable(tf.truncated_normal([784, L1], stddev=0.1))                                                            \n",
    "B1 = tf.Variable(tf.zeros([L1]))\n",
    "W2 = tf.Variable(tf.truncated_normal([L1, L2], stddev=0.1))\n",
    "B2 = tf.Variable(tf.zeros([L2]))\n",
    "W3 = tf.Variable(tf.truncated_normal([L2, L3], stddev=0.1))\n",
    "B3 = tf.Variable(tf.zeros([L3]))\n",
    "W4 = tf.Variable(tf.truncated_normal([L3, 10], stddev=0.1))\n",
    "B4 = tf.Variable(tf.zeros([10]))"
   ]
  },
  {
   "cell_type": "code",
   "execution_count": 55,
   "metadata": {},
   "outputs": [],
   "source": [
    "#the  neural net\n",
    "X_flat=tf.reshape(X, [-1, 784])\n",
    "Y_hid_1 = tf.nn.sigmoid(tf.matmul(X_flat, W1) + B1)\n",
    "Y_hid_1_dp = tf.nn.dropout(Y_hid_1, 0.7)\n",
    "Y_hid_2 = tf.nn.sigmoid(tf.matmul(Y_hid_1_dp, W2) + B2)\n",
    "Y_hid_2_dp = tf.nn.dropout(Y_hid_2, 0.8)\n",
    "Y_hid_3 = tf.nn.sigmoid(tf.matmul(Y_hid_2, W3) + B3)\n",
    "Y_hid_3_dp = tf.nn.dropout(Y_hid_3, 0.9)\n",
    "y_logits=tf.matmul(Y_hid_3_dp, W4) + B4\n",
    "y_pred = tf.nn.softmax(tf.matmul(Y_hid_3, W4) + B4)\n",
    "y_true=tf.one_hot(y,depth=10,on_value=1,off_value=0)"
   ]
  },
  {
   "cell_type": "code",
   "execution_count": 56,
   "metadata": {},
   "outputs": [],
   "source": [
    "#cross_entropy = tf.reduce_mean(-tf.reduce_sum(y_true * tf.log(y), reduction_indices=[1]))\n",
    "#can't use this while training :https://github.com/tensorflow/tensorflow/issues/2462\n",
    "\n",
    "cross_entropy = tf.reduce_mean(tf.nn.softmax_cross_entropy_with_logits(logits=y_logits, labels=y_true))\n",
    "learning_rate = 0.003 #no hyperoptimization, no use of validation data yet\n",
    "train_step = tf.train.AdamOptimizer(learning_rate).minimize(cross_entropy)\n",
    "\n",
    "accuracy=tf.reduce_mean(tf.cast(tf.equal(tf.argmax(y_pred, 1),y),dtype=tf.float32))"
   ]
  },
  {
   "cell_type": "code",
   "execution_count": 57,
   "metadata": {},
   "outputs": [],
   "source": [
    "#finally inintialize tf \n",
    "\n",
    "init = tf.global_variables_initializer()\n",
    "sess = tf.Session()\n",
    "sess.run(init)"
   ]
  },
  {
   "cell_type": "code",
   "execution_count": 58,
   "metadata": {},
   "outputs": [],
   "source": [
    "def batch_generator(inp_array,batch_size=50):\n",
    "    start_index=0\n",
    "    exhausted=False\n",
    "    while 1:\n",
    "        if exhausted:return #raise StopIteration(\"Ran out of data, can't suppy more images to the model\") deprecated since python3.5\n",
    "        if start_index+batch_size>=len(inp_array):\n",
    "            ret_array=inp_array[start_index:]\n",
    "            exhausted=True\n",
    "        else:\n",
    "            ret_array=inp_array[start_index:start_index+batch_size]\n",
    "            start_index+=batch_size\n",
    "        yield ret_array\n"
   ]
  },
  {
   "cell_type": "code",
   "execution_count": 59,
   "metadata": {},
   "outputs": [
    {
     "name": "stdout",
     "output_type": "stream",
     "text": [
      "Epoch 0: Train Loss is 0.3388; Train Acc is 0.908; Val Loss is 0.2929, Val Acc is 0.926\n",
      "Epoch 1: Train Loss is 0.2800; Train Acc is 0.936; Val Loss is 0.1973, Val Acc is 0.947\n",
      "Epoch 2: Train Loss is 0.1509; Train Acc is 0.972; Val Loss is 0.1535, Val Acc is 0.960\n",
      "Epoch 3: Train Loss is 0.1065; Train Acc is 0.972; Val Loss is 0.1313, Val Acc is 0.965\n",
      "Epoch 4: Train Loss is 0.1294; Train Acc is 0.952; Val Loss is 0.1204, Val Acc is 0.966\n",
      "Epoch 5: Train Loss is 0.1468; Train Acc is 0.948; Val Loss is 0.1147, Val Acc is 0.969\n",
      "Epoch 6: Train Loss is 0.1275; Train Acc is 0.972; Val Loss is 0.1095, Val Acc is 0.970\n",
      "Epoch 7: Train Loss is 0.0373; Train Acc is 0.988; Val Loss is 0.1044, Val Acc is 0.973\n",
      "Epoch 8: Train Loss is 0.0566; Train Acc is 0.984; Val Loss is 0.1012, Val Acc is 0.972\n",
      "Epoch 9: Train Loss is 0.0971; Train Acc is 0.976; Val Loss is 0.1075, Val Acc is 0.970\n",
      "Epoch 10: Train Loss is 0.0919; Train Acc is 0.976; Val Loss is 0.1028, Val Acc is 0.972\n",
      "Epoch 11: Train Loss is 0.0435; Train Acc is 0.988; Val Loss is 0.0979, Val Acc is 0.974\n",
      "Epoch 12: Train Loss is 0.0356; Train Acc is 0.980; Val Loss is 0.0930, Val Acc is 0.975\n",
      "Epoch 13: Train Loss is 0.0538; Train Acc is 0.980; Val Loss is 0.0965, Val Acc is 0.976\n",
      "Epoch 14: Train Loss is 0.0146; Train Acc is 0.996; Val Loss is 0.1019, Val Acc is 0.973\n",
      "Epoch 15: Train Loss is 0.0056; Train Acc is 1.000; Val Loss is 0.1016, Val Acc is 0.974\n",
      "Epoch 16: Train Loss is 0.0231; Train Acc is 0.988; Val Loss is 0.1000, Val Acc is 0.975\n",
      "Epoch 17: Train Loss is 0.0269; Train Acc is 0.988; Val Loss is 0.1050, Val Acc is 0.974\n",
      "Epoch 18: Train Loss is 0.0305; Train Acc is 0.992; Val Loss is 0.1030, Val Acc is 0.975\n",
      "Epoch 19: Train Loss is 0.0532; Train Acc is 0.984; Val Loss is 0.1094, Val Acc is 0.974\n",
      "Epoch 20: Train Loss is 0.0299; Train Acc is 0.984; Val Loss is 0.1010, Val Acc is 0.975\n",
      "Epoch 21: Train Loss is 0.0577; Train Acc is 0.988; Val Loss is 0.1022, Val Acc is 0.975\n",
      "Epoch 22: Train Loss is 0.0403; Train Acc is 0.988; Val Loss is 0.0954, Val Acc is 0.977\n",
      "Epoch 23: Train Loss is 0.0022; Train Acc is 1.000; Val Loss is 0.1041, Val Acc is 0.976\n",
      "Epoch 24: Train Loss is 0.0496; Train Acc is 0.980; Val Loss is 0.1093, Val Acc is 0.975\n",
      "Epoch 25: Train Loss is 0.0295; Train Acc is 0.992; Val Loss is 0.1075, Val Acc is 0.975\n",
      "Epoch 26: Train Loss is 0.0366; Train Acc is 0.988; Val Loss is 0.1031, Val Acc is 0.975\n",
      "Epoch 27: Train Loss is 0.0078; Train Acc is 0.996; Val Loss is 0.1015, Val Acc is 0.977\n",
      "Epoch 28: Train Loss is 0.0184; Train Acc is 0.996; Val Loss is 0.1030, Val Acc is 0.977\n",
      "Epoch 29: Train Loss is 0.0033; Train Acc is 1.000; Val Loss is 0.1057, Val Acc is 0.976\n",
      "Epoch 30: Train Loss is 0.0110; Train Acc is 0.992; Val Loss is 0.1008, Val Acc is 0.978\n",
      "Epoch 31: Train Loss is 0.0176; Train Acc is 0.992; Val Loss is 0.1015, Val Acc is 0.977\n",
      "Epoch 32: Train Loss is 0.0030; Train Acc is 1.000; Val Loss is 0.1075, Val Acc is 0.976\n",
      "Epoch 33: Train Loss is 0.0250; Train Acc is 0.996; Val Loss is 0.1070, Val Acc is 0.978\n",
      "Epoch 34: Train Loss is 0.0028; Train Acc is 1.000; Val Loss is 0.1052, Val Acc is 0.978\n",
      "Epoch 35: Train Loss is 0.0120; Train Acc is 0.996; Val Loss is 0.1123, Val Acc is 0.976\n",
      "Epoch 36: Train Loss is 0.0086; Train Acc is 0.996; Val Loss is 0.1082, Val Acc is 0.976\n",
      "Epoch 37: Train Loss is 0.0067; Train Acc is 0.996; Val Loss is 0.1042, Val Acc is 0.977\n",
      "Epoch 38: Train Loss is 0.0027; Train Acc is 1.000; Val Loss is 0.1085, Val Acc is 0.976\n",
      "Epoch 39: Train Loss is 0.0019; Train Acc is 1.000; Val Loss is 0.1041, Val Acc is 0.977\n",
      "Epoch 40: Train Loss is 0.0321; Train Acc is 0.992; Val Loss is 0.1200, Val Acc is 0.976\n",
      "Epoch 41: Train Loss is 0.0058; Train Acc is 1.000; Val Loss is 0.1019, Val Acc is 0.978\n",
      "Epoch 42: Train Loss is 0.0249; Train Acc is 0.996; Val Loss is 0.1107, Val Acc is 0.976\n",
      "Epoch 43: Train Loss is 0.0205; Train Acc is 0.996; Val Loss is 0.1064, Val Acc is 0.978\n",
      "Epoch 44: Train Loss is 0.0163; Train Acc is 0.996; Val Loss is 0.1128, Val Acc is 0.977\n",
      "Epoch 45: Train Loss is 0.0251; Train Acc is 0.992; Val Loss is 0.1030, Val Acc is 0.978\n",
      "Epoch 46: Train Loss is 0.0242; Train Acc is 0.996; Val Loss is 0.1169, Val Acc is 0.975\n",
      "Epoch 47: Train Loss is 0.0022; Train Acc is 1.000; Val Loss is 0.1080, Val Acc is 0.979\n",
      "Epoch 48: Train Loss is 0.0053; Train Acc is 1.000; Val Loss is 0.1130, Val Acc is 0.977\n",
      "Epoch 49: Train Loss is 0.0284; Train Acc is 0.992; Val Loss is 0.1081, Val Acc is 0.978\n",
      "Epoch 50: Train Loss is 0.0085; Train Acc is 0.996; Val Loss is 0.1045, Val Acc is 0.979\n",
      "Epoch 51: Train Loss is 0.0115; Train Acc is 0.996; Val Loss is 0.1075, Val Acc is 0.979\n",
      "Epoch 52: Train Loss is 0.0031; Train Acc is 1.000; Val Loss is 0.1061, Val Acc is 0.978\n",
      "Epoch 53: Train Loss is 0.0022; Train Acc is 1.000; Val Loss is 0.1119, Val Acc is 0.978\n",
      "Epoch 54: Train Loss is 0.0152; Train Acc is 0.996; Val Loss is 0.1063, Val Acc is 0.978\n",
      "Epoch 55: Train Loss is 0.0092; Train Acc is 0.996; Val Loss is 0.1189, Val Acc is 0.976\n",
      "Epoch 56: Train Loss is 0.0047; Train Acc is 0.996; Val Loss is 0.1088, Val Acc is 0.977\n",
      "Epoch 57: Train Loss is 0.0093; Train Acc is 0.996; Val Loss is 0.1070, Val Acc is 0.977\n",
      "Epoch 58: Train Loss is 0.0041; Train Acc is 1.000; Val Loss is 0.1122, Val Acc is 0.978\n",
      "Epoch 59: Train Loss is 0.0221; Train Acc is 0.996; Val Loss is 0.1173, Val Acc is 0.978\n",
      "Epoch 60: Train Loss is 0.0012; Train Acc is 1.000; Val Loss is 0.1180, Val Acc is 0.977\n",
      "Epoch 61: Train Loss is 0.0009; Train Acc is 1.000; Val Loss is 0.1048, Val Acc is 0.979\n",
      "Epoch 62: Train Loss is 0.0258; Train Acc is 0.992; Val Loss is 0.1176, Val Acc is 0.977\n",
      "Epoch 63: Train Loss is 0.0127; Train Acc is 0.996; Val Loss is 0.1113, Val Acc is 0.978\n",
      "Epoch 64: Train Loss is 0.0133; Train Acc is 0.996; Val Loss is 0.1160, Val Acc is 0.978\n",
      "Epoch 65: Train Loss is 0.0101; Train Acc is 0.996; Val Loss is 0.1223, Val Acc is 0.978\n",
      "Epoch 66: Train Loss is 0.0033; Train Acc is 1.000; Val Loss is 0.1122, Val Acc is 0.979\n",
      "Epoch 67: Train Loss is 0.0110; Train Acc is 0.996; Val Loss is 0.1180, Val Acc is 0.977\n",
      "Epoch 68: Train Loss is 0.0159; Train Acc is 0.992; Val Loss is 0.1118, Val Acc is 0.979\n",
      "Epoch 69: Train Loss is 0.0055; Train Acc is 0.996; Val Loss is 0.1231, Val Acc is 0.977\n",
      "Epoch 70: Train Loss is 0.0048; Train Acc is 1.000; Val Loss is 0.1120, Val Acc is 0.979\n",
      "Epoch 71: Train Loss is 0.0014; Train Acc is 1.000; Val Loss is 0.1224, Val Acc is 0.977\n",
      "Epoch 72: Train Loss is 0.0049; Train Acc is 0.996; Val Loss is 0.1341, Val Acc is 0.976\n",
      "Epoch 73: Train Loss is 0.0115; Train Acc is 0.996; Val Loss is 0.1203, Val Acc is 0.978\n",
      "Epoch 74: Train Loss is 0.0214; Train Acc is 0.992; Val Loss is 0.1124, Val Acc is 0.980\n",
      "Epoch 75: Train Loss is 0.0016; Train Acc is 1.000; Val Loss is 0.1270, Val Acc is 0.977\n",
      "Epoch 76: Train Loss is 0.0006; Train Acc is 1.000; Val Loss is 0.1147, Val Acc is 0.977\n",
      "Epoch 77: Train Loss is 0.0145; Train Acc is 0.996; Val Loss is 0.1252, Val Acc is 0.979\n",
      "Epoch 78: Train Loss is 0.0303; Train Acc is 0.988; Val Loss is 0.1293, Val Acc is 0.976\n",
      "Epoch 79: Train Loss is 0.0027; Train Acc is 1.000; Val Loss is 0.1110, Val Acc is 0.979\n",
      "Epoch 80: Train Loss is 0.0111; Train Acc is 0.996; Val Loss is 0.1077, Val Acc is 0.978\n",
      "Epoch 81: Train Loss is 0.0466; Train Acc is 0.996; Val Loss is 0.1154, Val Acc is 0.977\n",
      "Epoch 82: Train Loss is 0.0053; Train Acc is 0.996; Val Loss is 0.1135, Val Acc is 0.978\n",
      "Epoch 83: Train Loss is 0.0225; Train Acc is 0.996; Val Loss is 0.1185, Val Acc is 0.978\n",
      "Epoch 84: Train Loss is 0.0045; Train Acc is 1.000; Val Loss is 0.1072, Val Acc is 0.979\n",
      "Epoch 85: Train Loss is 0.0086; Train Acc is 0.996; Val Loss is 0.1216, Val Acc is 0.976\n",
      "Epoch 86: Train Loss is 0.0040; Train Acc is 0.996; Val Loss is 0.1141, Val Acc is 0.979\n",
      "Epoch 87: Train Loss is 0.0049; Train Acc is 1.000; Val Loss is 0.1092, Val Acc is 0.980\n",
      "Epoch 88: Train Loss is 0.0073; Train Acc is 0.996; Val Loss is 0.1137, Val Acc is 0.976\n",
      "Epoch 89: Train Loss is 0.0188; Train Acc is 0.992; Val Loss is 0.1249, Val Acc is 0.975\n",
      "Epoch 90: Train Loss is 0.0003; Train Acc is 1.000; Val Loss is 0.1105, Val Acc is 0.979\n",
      "Epoch 91: Train Loss is 0.0155; Train Acc is 0.996; Val Loss is 0.1283, Val Acc is 0.978\n",
      "Epoch 92: Train Loss is 0.0045; Train Acc is 0.996; Val Loss is 0.1172, Val Acc is 0.978\n"
     ]
    },
    {
     "name": "stdout",
     "output_type": "stream",
     "text": [
      "Epoch 93: Train Loss is 0.0104; Train Acc is 0.996; Val Loss is 0.1132, Val Acc is 0.980\n",
      "Epoch 94: Train Loss is 0.0012; Train Acc is 1.000; Val Loss is 0.1072, Val Acc is 0.980\n",
      "Epoch 95: Train Loss is 0.0003; Train Acc is 1.000; Val Loss is 0.1090, Val Acc is 0.979\n",
      "Epoch 96: Train Loss is 0.0009; Train Acc is 1.000; Val Loss is 0.1226, Val Acc is 0.976\n",
      "Epoch 97: Train Loss is 0.0088; Train Acc is 0.996; Val Loss is 0.1066, Val Acc is 0.979\n",
      "Epoch 98: Train Loss is 0.0024; Train Acc is 1.000; Val Loss is 0.1228, Val Acc is 0.977\n",
      "Epoch 99: Train Loss is 0.0012; Train Acc is 1.000; Val Loss is 0.1163, Val Acc is 0.977\n"
     ]
    }
   ],
   "source": [
    "\n",
    "#now training and validation\n",
    "n_epochs=100\n",
    "batch_size=250\n",
    "loss=None\n",
    "acc=0\n",
    "num_train=X_train.shape[0]\n",
    "\n",
    "train_losses=[]\n",
    "val_losses=[]\n",
    "test_losses=[]\n",
    "for epoch in range(n_epochs):\n",
    "    shuffle_index=np.arange(num_train)\n",
    "    np.random.shuffle(shuffle_index)\n",
    "    X_train=X_train[shuffle_index]\n",
    "    y_train=y_train[shuffle_index]\n",
    "    my_X_generator=batch_generator(X_train,batch_size)\n",
    "    my_y_generator=batch_generator(y_train,batch_size)\n",
    "    iteration=0    \n",
    "    \n",
    "    for batch_X in my_X_generator:\n",
    "        batch_y=next(my_y_generator)\n",
    "        _,loss,acc=sess.run([train_step,cross_entropy,accuracy], {X: batch_X, y: batch_y})\n",
    "        \n",
    "        if iteration%5==0:\n",
    "            \n",
    "            v_loss,v_acc=sess.run([cross_entropy,accuracy], {X: X_val, y: y_val})\n",
    "            t_loss,t_acc=sess.run([cross_entropy,accuracy], {X: X_test, y: y_test})\n",
    "            train_losses.append(loss)\n",
    "            val_losses.append(v_loss)\n",
    "            test_losses.append(t_loss)\n",
    "        \n",
    "    \n",
    "        iteration+=1\n",
    "    print('Epoch {}: Train Loss is {:.4f}; Train Acc is {:.3f}; Val Loss is {:.4f}, Val Acc is {:.3f}'.format(epoch,round(loss,5),acc,round(v_loss,5),v_acc))\n",
    "            #hypertoptimize later"
   ]
  },
  {
   "cell_type": "code",
   "execution_count": 60,
   "metadata": {},
   "outputs": [
    {
     "data": {
      "image/png": "[encoded data removed]",
      "text/plain": [
       "<matplotlib.figure.Figure at 0x1141eb908>"
      ]
     },
     "metadata": {},
     "output_type": "display_data"
    },
    {
     "data": {
      "text/plain": [
       "<matplotlib.figure.Figure at 0x116358d30>"
      ]
     },
     "metadata": {},
     "output_type": "display_data"
    }
   ],
   "source": [
    "plt.plot(train_losses,label='training_loss')\n",
    "plt.plot(val_losses,label='validation loss',color='orange')\n",
    "\n",
    "plt.legend(loc=\"upper right\")\n",
    "plt.show()\n",
    "plt.clf()\n",
    "#it's overtraning a little in the end"
   ]
  },
  {
   "cell_type": "code",
   "execution_count": 61,
   "metadata": {},
   "outputs": [
    {
     "data": {
      "image/png": "[encoded data removed]",
      "text/plain": [
       "<matplotlib.figure.Figure at 0x11490c588>"
      ]
     },
     "metadata": {},
     "output_type": "display_data"
    },
    {
     "name": "stdout",
     "output_type": "stream",
     "text": [
      "Accuracy on test data set is : 0.9784\n"
     ]
    },
    {
     "data": {
      "text/plain": [
       "<matplotlib.figure.Figure at 0x11637d320>"
      ]
     },
     "metadata": {},
     "output_type": "display_data"
    }
   ],
   "source": [
    "plt.plot(train_losses,label='training_loss')\n",
    "plt.plot(test_losses,label='test_loss',color='red')\n",
    "plt.legend(loc=\"upper right\")\n",
    "plt.show()\n",
    "plt.clf()\n",
    "print('Accuracy on test data set is :',t_acc) "
   ]
  }
 ],
 "metadata": {
  "kernelspec": {
   "display_name": "tflow",
   "language": "python",
   "name": "tensorflow"
  },
  "language_info": {
   "codemirror_mode": {
    "name": "ipython",
    "version": 3
   },
   "file_extension": ".py",
   "mimetype": "text/x-python",
   "name": "python",
   "nbconvert_exporter": "python",
   "pygments_lexer": "ipython3",
   "version": "3.6.2"
  }
 },
 "nbformat": 4,
 "nbformat_minor": 2
}
